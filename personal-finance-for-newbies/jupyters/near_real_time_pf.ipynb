{
 "cells": [
  {
   "cell_type": "code",
   "execution_count": null,
   "id": "f7fa1942",
   "metadata": {},
   "outputs": [],
   "source": [
    "from pathlib import Path\n",
    "\n",
    "import pandas as pd\n",
    "import numpy as np\n",
    "import plotly.express as px\n",
    "import plotly.graph_objects as go\n",
    "import matplotlib.pyplot as plt\n",
    "\n",
    "from utils import aggregate_by_ticker, get_last_closing_price, get_full_price_history"
   ]
  },
  {
   "cell_type": "markdown",
   "id": "7616bbd2",
   "metadata": {},
   "source": [
    "## Import"
   ]
  },
  {
   "cell_type": "code",
   "execution_count": null,
   "id": "3bf2317f",
   "metadata": {},
   "outputs": [],
   "source": [
    "io_path = Path('..','data','in')"
   ]
  },
  {
   "cell_type": "code",
   "execution_count": null,
   "id": "14b007ec",
   "metadata": {},
   "outputs": [],
   "source": [
    "df_storico = pd.read_excel(\n",
    "    io_path / Path('pac.xlsx'),\n",
    "    sheet_name='Storico',\n",
    "    dtype={\n",
    "        'Borsa': str,\n",
    "        'Ticker': str,\n",
    "        'Quote': int,\n",
    "        'Prezzo (€)': float,\n",
    "        'Commissioni': float,\n",
    "    }\n",
    ").rename(\n",
    "    columns={\n",
    "        'Borsa': 'exchange',\n",
    "        'Ticker': 'ticker',\n",
    "        'Data Operazione': 'transaction_date',\n",
    "        'Quote': 'shares',\n",
    "        'Prezzo (€)': 'price',\n",
    "        'Commissioni (€)': 'fees',\n",
    "    }\n",
    ")"
   ]
  },
  {
   "cell_type": "code",
   "execution_count": null,
   "id": "7438c464",
   "metadata": {},
   "outputs": [],
   "source": [
    "df_anagrafica = pd.read_excel(\n",
    "    io_path / Path('pac.xlsx'),\n",
    "    sheet_name='Anagrafica Titoli',\n",
    "    dtype=str\n",
    ").rename(\n",
    "    columns={\n",
    "        'Ticker': 'ticker',\n",
    "        'Nome ETF': 'name',\n",
    "        'Tipologia': 'asset_class',\n",
    "        'Macro Tipologia': 'macro_asset_class',\n",
    "    }\n",
    ")"
   ]
  },
  {
   "cell_type": "code",
   "execution_count": null,
   "id": "63de10c6",
   "metadata": {},
   "outputs": [],
   "source": [
    "df_pf = aggregate_by_ticker(df_storico, in_pf_only=True)"
   ]
  },
  {
   "cell_type": "markdown",
   "id": "18f808d2",
   "metadata": {},
   "source": [
    "## Ultima chiusura"
   ]
  },
  {
   "cell_type": "code",
   "execution_count": null,
   "id": "3e88e6b5",
   "metadata": {},
   "outputs": [],
   "source": [
    "ticker_list = df_pf['ticker_yf'].to_list()\n",
    "\n",
    "df_last_closing = get_last_closing_price(ticker_list=ticker_list)"
   ]
  },
  {
   "cell_type": "markdown",
   "id": "64b2943a",
   "metadata": {},
   "source": [
    "## PMC *vs* prezzo attuale"
   ]
  },
  {
   "cell_type": "code",
   "execution_count": null,
   "id": "342f4b77",
   "metadata": {},
   "outputs": [],
   "source": [
    "df_j = df_pf[['ticker_yf','dca','shares']].merge(\n",
    "    df_last_closing[['ticker_yf','price']],\n",
    "    how='left',\n",
    "    on='ticker_yf'\n",
    ")\n",
    "\n",
    "df_j['gain'] = np.where(\n",
    "    df_j['price'].gt(df_j['dca']),\n",
    "    True,\n",
    "    False,\n",
    ")"
   ]
  },
  {
   "cell_type": "markdown",
   "id": "f09c2ac7",
   "metadata": {},
   "source": [
    "## PnL"
   ]
  },
  {
   "cell_type": "code",
   "execution_count": null,
   "id": "c09a9433",
   "metadata": {},
   "outputs": [],
   "source": [
    "expense = (\n",
    "    df_j['shares'] * df_j['dca']\n",
    ").sum()"
   ]
  },
  {
   "cell_type": "code",
   "execution_count": null,
   "id": "68c9975c",
   "metadata": {},
   "outputs": [],
   "source": [
    "fees = df_storico['fees'].sum().round(2)"
   ]
  },
  {
   "cell_type": "code",
   "execution_count": null,
   "id": "235730d7",
   "metadata": {},
   "outputs": [],
   "source": [
    "pf_actual_value = (\n",
    "    df_j['shares'] * df_j['price']\n",
    ").sum()"
   ]
  },
  {
   "cell_type": "code",
   "execution_count": null,
   "id": "5bc03ca7",
   "metadata": {},
   "outputs": [],
   "source": [
    "(pf_actual_value - expense).round(2)"
   ]
  },
  {
   "cell_type": "code",
   "execution_count": null,
   "id": "e17b4251",
   "metadata": {},
   "outputs": [],
   "source": [
    "np.round(\n",
    "    100 * (pf_actual_value - expense) / expense,\n",
    "    1\n",
    ")"
   ]
  },
  {
   "cell_type": "code",
   "execution_count": null,
   "id": "0e5aa731",
   "metadata": {},
   "outputs": [],
   "source": [
    "(pf_actual_value - expense - fees).round(2)"
   ]
  },
  {
   "cell_type": "code",
   "execution_count": null,
   "id": "9976b905",
   "metadata": {},
   "outputs": [],
   "source": [
    "np.round(\n",
    "    100 * (pf_actual_value - expense - fees) / expense,\n",
    "    1\n",
    ")"
   ]
  },
  {
   "cell_type": "markdown",
   "id": "6a59aa2e",
   "metadata": {},
   "source": [
    "## Pivot per tipologia"
   ]
  },
  {
   "cell_type": "code",
   "execution_count": null,
   "id": "473f00dc",
   "metadata": {},
   "outputs": [],
   "source": [
    "df_j['ticker'] = df_j['ticker_yf'].str.split('.').str[0]\n",
    "df_j['position_value'] = df_j['shares'] * df_j['price']"
   ]
  },
  {
   "cell_type": "code",
   "execution_count": null,
   "id": "59d03a23",
   "metadata": {},
   "outputs": [],
   "source": [
    "df_pivot = df_j.merge(\n",
    "    df_anagrafica,\n",
    "    how='left',\n",
    "    on='ticker'\n",
    ").groupby(\n",
    "    [\n",
    "        'macro_asset_class',\n",
    "        'asset_class',\n",
    "        'ticker',\n",
    "        'name',\n",
    "    ]\n",
    ")['position_value'].sum().reset_index()"
   ]
  },
  {
   "cell_type": "code",
   "execution_count": null,
   "id": "ec66b53a",
   "metadata": {},
   "outputs": [],
   "source": [
    "df_pivot['weight_pf'] = (\n",
    "    100 * df_pivot['position_value'].div(pf_actual_value)\n",
    ").astype(float).round(1)"
   ]
  },
  {
   "cell_type": "code",
   "execution_count": null,
   "id": "8652d1f5",
   "metadata": {},
   "outputs": [],
   "source": [
    "pd.pivot_table(\n",
    "    df_pivot,\n",
    "    values=['weight_pf'],\n",
    "    index=['macro_asset_class', 'asset_class'],\n",
    "    aggfunc='sum',\n",
    "    margins=True,\n",
    "    margins_name='Total',\n",
    ")"
   ]
  },
  {
   "cell_type": "markdown",
   "id": "a81b1833",
   "metadata": {},
   "source": [
    "## Full History"
   ]
  },
  {
   "cell_type": "code",
   "execution_count": null,
   "id": "f7b25f87",
   "metadata": {
    "scrolled": false
   },
   "outputs": [],
   "source": [
    "df_full_history = get_full_price_history(ticker_list)"
   ]
  },
  {
   "cell_type": "code",
   "execution_count": null,
   "id": "34c5e7bc",
   "metadata": {
    "scrolled": false
   },
   "outputs": [],
   "source": [
    "df_full_history_concat = pd.concat(\n",
    "    [df_full_history[t_] for t_ in ticker_list],\n",
    "    axis=1,\n",
    ")"
   ]
  },
  {
   "cell_type": "code",
   "execution_count": null,
   "id": "a0cab767",
   "metadata": {},
   "outputs": [],
   "source": [
    "# First not-null row\n",
    "first_idx = df_full_history_concat.apply(\n",
    "    pd.Series.first_valid_index\n",
    ").max()\n",
    "\n",
    "df = df_full_history_concat.loc[first_idx:]\n",
    "\n",
    "print(f'Starting from {str(first_idx)[:10]} ({df.shape[0]} days, {round(df.shape[0]/252, 1)} yrs)')"
   ]
  },
  {
   "cell_type": "markdown",
   "id": "7394bd19",
   "metadata": {},
   "source": [
    "## Grafichetti\n",
    "\n",
    "[tipo](https://plotly.com/python/horizontal-bar-charts/)"
   ]
  },
  {
   "cell_type": "code",
   "execution_count": null,
   "id": "8c545022",
   "metadata": {},
   "outputs": [],
   "source": [
    "df_pivot"
   ]
  },
  {
   "cell_type": "code",
   "execution_count": null,
   "id": "e6ac811c",
   "metadata": {},
   "outputs": [],
   "source": [
    "fig = px.sunburst(\n",
    "    df_pivot,\n",
    "    path=['macro_asset_class','asset_class','ticker'],\n",
    "    values='position_value',\n",
    ")\n",
    "\n",
    "fig.show()"
   ]
  },
  {
   "cell_type": "markdown",
   "id": "50fe018b",
   "metadata": {},
   "source": [
    "## Correlation"
   ]
  },
  {
   "cell_type": "code",
   "execution_count": null,
   "id": "47c977b3",
   "metadata": {},
   "outputs": [],
   "source": [
    "def color_df(val: float) -> str:\n",
    "    if val <= 0.3:\n",
    "        color = 'darkblue'\n",
    "    elif (val > 0.3 and val <= 0.7):\n",
    "        color = 'darkorange'\n",
    "    elif (val > 0.7 and val < 1.0):\n",
    "        color = 'darkred'\n",
    "    elif val == 1.0:\n",
    "        color = 'white'\n",
    "    return 'color: %s' % color"
   ]
  },
  {
   "cell_type": "code",
   "execution_count": null,
   "id": "299d230c",
   "metadata": {
    "scrolled": false
   },
   "outputs": [],
   "source": [
    "df_corr = df.corr()\n",
    "\n",
    "df_corr.style.applymap(color_df)"
   ]
  },
  {
   "cell_type": "code",
   "execution_count": null,
   "id": "c8e41903",
   "metadata": {
    "scrolled": false
   },
   "outputs": [],
   "source": [
    "mask = np.tril(\n",
    "    np.ones_like(df_corr, dtype=bool)\n",
    ")\n",
    "\n",
    "fig = go.Figure(go.Heatmap(\n",
    "    z=df_corr.mask(mask),\n",
    "    x=df_corr.columns,\n",
    "    y=df_corr.columns,\n",
    "    colorscale=px.colors.diverging.RdBu,\n",
    "    reversescale=True,\n",
    "    zmin=-1,\n",
    "    zmax=1\n",
    "))\n",
    "\n",
    "fig.update_layout(\n",
    "    paper_bgcolor='rgba(0,0,0,0)',\n",
    "    plot_bgcolor='rgba(0,0,0,0)',\n",
    ")\n",
    "\n",
    "fig.show()"
   ]
  },
  {
   "cell_type": "markdown",
   "id": "63455e33",
   "metadata": {},
   "source": [
    "## PyPortfolioOpt"
   ]
  },
  {
   "cell_type": "markdown",
   "id": "f16d4372",
   "metadata": {},
   "source": [
    "[risk-free rate](https://www.ecb.europa.eu/stats/financial_markets_and_interest_rates/euro_short-term_rate/html/index.en.html) area Euro\n",
    "\n",
    "[Fred](https://fred.stlouisfed.org/series/ECBESTRVOLWGTTRMDMNRT)"
   ]
  },
  {
   "cell_type": "code",
   "execution_count": null,
   "id": "2547a1a5",
   "metadata": {},
   "outputs": [],
   "source": [
    "from pypfopt.efficient_frontier import EfficientFrontier\n",
    "from pypfopt import risk_models, expected_returns, plotting\n",
    "\n",
    "# Calculate expected returns and sample covariance\n",
    "mu = expected_returns.mean_historical_return(df)\n",
    "S = risk_models.sample_cov(df)\n",
    "\n",
    "# Risk-free rate\n",
    "risk_free_rate = 0.0315\n",
    "\n",
    "# Optimize for maximal Sharpe ratio\n",
    "ef = EfficientFrontier(mu, S)\n",
    "max_sharpe_weights = ef.max_sharpe(risk_free_rate=risk_free_rate)\n",
    "ef.portfolio_performance(verbose=True, risk_free_rate=risk_free_rate);"
   ]
  },
  {
   "cell_type": "code",
   "execution_count": null,
   "id": "1a95f1ac",
   "metadata": {},
   "outputs": [],
   "source": [
    "for it_ in max_sharpe_weights.items():\n",
    "    print(it_)"
   ]
  },
  {
   "cell_type": "code",
   "execution_count": null,
   "id": "d39ef8f4",
   "metadata": {},
   "outputs": [],
   "source": [
    "ef_plt = EfficientFrontier(mu, S)\n",
    "\n",
    "fig, ax = plt.subplots()\n",
    "plotting.plot_efficient_frontier(\n",
    "    ef_plt,\n",
    "    ax=ax,\n",
    "    show_assets=True,\n",
    ")\n",
    "plt.show()"
   ]
  },
  {
   "cell_type": "code",
   "execution_count": null,
   "id": "301d51de",
   "metadata": {},
   "outputs": [],
   "source": [
    "ef_plt = EfficientFrontier(mu, S)\n",
    "\n",
    "fig, ax = plt.subplots()\n",
    "ef_max_sharpe = ef_plt.deepcopy()\n",
    "plotting.plot_efficient_frontier(\n",
    "    ef_plt,\n",
    "    ax=ax,\n",
    "    show_assets=False,\n",
    ")\n",
    "\n",
    "# Find the tangency portfolio\n",
    "ef_max_sharpe.max_sharpe()\n",
    "ret_tangent, std_tangent, _ = ef_max_sharpe.portfolio_performance()\n",
    "ax.scatter(std_tangent, ret_tangent, marker=\"*\", s=100, c=\"r\", label=\"Max Sharpe\")\n",
    "\n",
    "# Generate random portfolios\n",
    "n_samples = 10000\n",
    "w = np.random.dirichlet(np.ones(ef_plt.n_assets), n_samples)\n",
    "rets = w.dot(ef_plt.expected_returns)\n",
    "stds = np.sqrt(np.diag(w @ ef_plt.cov_matrix @ w.T))\n",
    "sharpes = rets / stds\n",
    "ax.scatter(stds, rets, marker=\".\", c=sharpes, cmap=\"viridis_r\")\n",
    "\n",
    "# Output\n",
    "ax.set_title(\"Efficient Frontier with random portfolios\")\n",
    "ax.set_xlim((0.0, 1.0))\n",
    "ax.set_ylim((0.0, 0.2))\n",
    "ax.legend()\n",
    "plt.tight_layout()\n",
    "plt.show()"
   ]
  },
  {
   "cell_type": "markdown",
   "id": "d419b950",
   "metadata": {},
   "source": [
    "## Efficient Frontier"
   ]
  },
  {
   "cell_type": "code",
   "execution_count": null,
   "id": "a1801332",
   "metadata": {},
   "outputs": [],
   "source": [
    "df_returns = df.pct_change()[1:]"
   ]
  },
  {
   "cell_type": "code",
   "execution_count": null,
   "id": "84debab3",
   "metadata": {},
   "outputs": [],
   "source": [
    "# Annualized returns (cumulative appreciation)\n",
    "r = (\n",
    "    (1 + df_returns).prod()\n",
    ")**(\n",
    "    252 / df_returns.shape[0]\n",
    ") - 1"
   ]
  },
  {
   "cell_type": "code",
   "execution_count": null,
   "id": "59b2f8c5",
   "metadata": {},
   "outputs": [],
   "source": [
    "# Covariance matrix\n",
    "cov = 252 * df_returns.cov()"
   ]
  },
  {
   "cell_type": "code",
   "execution_count": null,
   "id": "08156296",
   "metadata": {},
   "outputs": [],
   "source": [
    "e = np.ones(r.shape[0])"
   ]
  },
  {
   "cell_type": "code",
   "execution_count": null,
   "id": "99495729",
   "metadata": {},
   "outputs": [],
   "source": [
    "# Investable universe\n",
    "icov = np.linalg.inv(cov)\n",
    "\n",
    "h = np.matmul(e, icov)\n",
    "g = np.matmul(r, icov)\n",
    "\n",
    "a = np.sum(e * h)\n",
    "b = np.sum(r * h)\n",
    "c = np.sum(r * g)\n",
    "d = a * c - b**2"
   ]
  },
  {
   "cell_type": "code",
   "execution_count": null,
   "id": "45645825",
   "metadata": {},
   "outputs": [],
   "source": [
    "# MVP (minimum-variance portfolio)\n",
    "mvp = h / a\n",
    "mvp_return = b / a\n",
    "mvp_risk = 1 / np.sqrt(a)"
   ]
  },
  {
   "cell_type": "code",
   "execution_count": null,
   "id": "a6e51ebb",
   "metadata": {},
   "outputs": [],
   "source": [
    "# Tangency portfolio (with zero risk-free rate)\n",
    "tangency = g / b\n",
    "tangency_return = c / b\n",
    "tangency_risk = np.sqrt(c) / b"
   ]
  },
  {
   "cell_type": "code",
   "execution_count": null,
   "id": "194d4856",
   "metadata": {},
   "outputs": [],
   "source": [
    "mvp_return, mvp_risk"
   ]
  },
  {
   "cell_type": "markdown",
   "id": "685c5413",
   "metadata": {},
   "source": [
    "## Efficient Frontier again"
   ]
  },
  {
   "cell_type": "code",
   "execution_count": null,
   "id": "18f8b713",
   "metadata": {},
   "outputs": [],
   "source": [
    "def OLD_get_returns_and_covariance(df: pd.DataFrame):\n",
    "    tickers = df.columns.to_list()\n",
    "    \n",
    "    returns = df.pct_change()[1:]\n",
    "    \n",
    "    r = ((1 + returns).prod())**(252 / returns.shape[0]) - 1\n",
    "    \n",
    "    cov = 252 * returns.cov()\n",
    "    \n",
    "    return r, cov"
   ]
  },
  {
   "cell_type": "code",
   "execution_count": null,
   "id": "6d96bca7",
   "metadata": {},
   "outputs": [],
   "source": [
    "def get_returns_and_covariance(df: pd.DataFrame):\n",
    "    tickers = df.columns.to_list()\n",
    "    \n",
    "    returns = df.pct_change()[1:]\n",
    "    \n",
    "    r = returns.mean()\n",
    "    cov = returns.cov()\n",
    "    \n",
    "    return r, cov"
   ]
  },
  {
   "cell_type": "code",
   "execution_count": null,
   "id": "60488ca0",
   "metadata": {},
   "outputs": [],
   "source": [
    "def portfolio_performance(weights, mean_returns, cov):\n",
    "    returns = 252 * np.sum(mean_returns * weights)\n",
    "    std = np.sqrt(\n",
    "        np.dot(\n",
    "            weights.T,\n",
    "            np.dot(\n",
    "                cov,\n",
    "                weights)\n",
    "        )\n",
    "    ) * np.sqrt(252)\n",
    "    return round(100 * returns, 2), round(100 * std, 2)"
   ]
  },
  {
   "cell_type": "code",
   "execution_count": null,
   "id": "ffe91122",
   "metadata": {},
   "outputs": [],
   "source": [
    "df.columns.to_list()"
   ]
  },
  {
   "cell_type": "code",
   "execution_count": null,
   "id": "e4c4dedd",
   "metadata": {},
   "outputs": [],
   "source": [
    "dict(\n",
    "    zip(df_pivot['ticker'], df_pivot['weight_pf'])\n",
    ")"
   ]
  },
  {
   "cell_type": "code",
   "execution_count": null,
   "id": "0a576311",
   "metadata": {},
   "outputs": [],
   "source": [
    "weights = np.array(\n",
    "    [\n",
    "        0.546,\n",
    "        0.027,\n",
    "        0.010,\n",
    "        0.005,\n",
    "        0.144,\n",
    "        0.029,\n",
    "        0.089,\n",
    "        0.049,\n",
    "        0.037,\n",
    "        0.024,\n",
    "        0.040,\n",
    "    ]\n",
    ")\n",
    "\n",
    "mean_returns, cov = get_returns_and_covariance(df)\n",
    "\n",
    "portfolio_performance(weights=weights, mean_returns=mean_returns, cov=cov)"
   ]
  },
  {
   "cell_type": "code",
   "execution_count": null,
   "id": "45ec17f0",
   "metadata": {},
   "outputs": [],
   "source": [
    "import scipy as sc\n",
    "\n",
    "def negative_SR(weights, mean_returns, cov, risk_free_rate = 0):\n",
    "    pf_returns, pf_std = portfolio_performance(weights, mean_returns, cov)\n",
    "    return - (pf_returns - risk_free_rate) / pf_std\n",
    "\n",
    "def max_SR(mean_returns, cov, risk_free_rate = 0, constraint_set=(0,1)):\n",
    "    \"Minimize the negative SR, by altering the weights of the portfolio\"\n",
    "    n_assets = mean_returns.shape[0]\n",
    "    args = (mean_returns, cov, risk_free_rate)\n",
    "    constraints = (\n",
    "        {'type': 'eq', 'fun': lambda x: np.sum(x) - 1}\n",
    "    )\n",
    "    bound = constraint_set\n",
    "    bounds = tuple(bound for asset in range(n_assets))\n",
    "    result = sc.optimize.minimize(\n",
    "        negative_SR,\n",
    "        np.repeat(1/n_assets, n_assets),\n",
    "        args=args,\n",
    "        method='SLSQP',\n",
    "        bounds=bounds,\n",
    "        constraints=constraints,\n",
    "    )\n",
    "    return result"
   ]
  },
  {
   "cell_type": "code",
   "execution_count": null,
   "id": "6fbd7740",
   "metadata": {},
   "outputs": [],
   "source": [
    "negative_SR(weights, mean_returns, cov)"
   ]
  },
  {
   "cell_type": "code",
   "execution_count": null,
   "id": "ae9159bc",
   "metadata": {},
   "outputs": [],
   "source": [
    "max_SR_result = max_SR(mean_returns, cov)\n",
    "max_SR_val, max_SR_weights = max_SR_result['fun'], max_SR_result['x']"
   ]
  },
  {
   "cell_type": "code",
   "execution_count": null,
   "id": "baf66934",
   "metadata": {},
   "outputs": [],
   "source": [
    "max_SR_val, max_SR_weights"
   ]
  }
 ],
 "metadata": {
  "kernelspec": {
   "display_name": "Python 3 (ipykernel)",
   "language": "python",
   "name": "python3"
  },
  "language_info": {
   "codemirror_mode": {
    "name": "ipython",
    "version": 3
   },
   "file_extension": ".py",
   "mimetype": "text/x-python",
   "name": "python",
   "nbconvert_exporter": "python",
   "pygments_lexer": "ipython3",
   "version": "3.10.8"
  }
 },
 "nbformat": 4,
 "nbformat_minor": 5
}
