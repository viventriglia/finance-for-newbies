{
 "cells": [
  {
   "cell_type": "code",
   "execution_count": 2,
   "id": "41d8543c",
   "metadata": {},
   "outputs": [],
   "source": [
    "import pandas as pd"
   ]
  },
  {
   "cell_type": "code",
   "execution_count": 10,
   "id": "4cb74294",
   "metadata": {},
   "outputs": [],
   "source": [
    "def get_risk_free_rate_last_value(decimal: bool = False) -> float:\n",
    "    try:\n",
    "        df_ecb = pd.read_html(\n",
    "            io=\"http://www.ecb.europa.eu/stats/financial_markets_and_interest_rates/euro_short-term_rate/html/index.en.html\"\n",
    "        )[0]\n",
    "        risk_free_rate = float(df_ecb.iloc[0, 1])\n",
    "    except:\n",
    "        risk_free_rate = 3\n",
    "    if decimal:\n",
    "        risk_free_rate = risk_free_rate / 100\n",
    "    return risk_free_rate\n",
    "\n",
    "def get_risk_free_rate_history(decimal: bool = False) -> pd.DataFrame:\n",
    "    euro_str_link = \"https://sdw.ecb.europa.eu/quickviewexport.do?SERIES_KEY=438.EST.B.EU000A2X2A25.WT&type=csv\"\n",
    "    try:\n",
    "        df_ecb = (\n",
    "            pd.read_csv(\n",
    "                euro_str_link,\n",
    "                sep=\",\",\n",
    "                skiprows=5,\n",
    "                index_col=0,\n",
    "            )\n",
    "            .drop(columns=\"obs. status\")\n",
    "            .rename(columns={\"Unnamed: 1\": \"euro_str\"})\n",
    "        ).sort_index()\n",
    "    except:\n",
    "        df_ecb = pd.DataFrame()\n",
    "    if decimal:\n",
    "        df_ecb[\"euro_str\"] = df_ecb[\"euro_str\"].div(100)\n",
    "    return df_ecb"
   ]
  },
  {
   "cell_type": "code",
   "execution_count": 11,
   "id": "35e33629",
   "metadata": {},
   "outputs": [
    {
     "data": {
      "text/plain": [
       "3.655"
      ]
     },
     "execution_count": 11,
     "metadata": {},
     "output_type": "execute_result"
    }
   ],
   "source": [
    "get_risk_free_rate_last_value()"
   ]
  },
  {
   "cell_type": "code",
   "execution_count": 13,
   "id": "649bef44",
   "metadata": {},
   "outputs": [],
   "source": [
    "df = get_risk_free_rate_history()"
   ]
  },
  {
   "cell_type": "code",
   "execution_count": 30,
   "id": "fe2a09ae",
   "metadata": {},
   "outputs": [
    {
     "data": {
      "text/html": [
       "<div>\n",
       "<style scoped>\n",
       "    .dataframe tbody tr th:only-of-type {\n",
       "        vertical-align: middle;\n",
       "    }\n",
       "\n",
       "    .dataframe tbody tr th {\n",
       "        vertical-align: top;\n",
       "    }\n",
       "\n",
       "    .dataframe thead th {\n",
       "        text-align: right;\n",
       "    }\n",
       "</style>\n",
       "<table border=\"1\" class=\"dataframe\">\n",
       "  <thead>\n",
       "    <tr style=\"text-align: right;\">\n",
       "      <th></th>\n",
       "      <th>euro_str</th>\n",
       "    </tr>\n",
       "  </thead>\n",
       "  <tbody>\n",
       "    <tr>\n",
       "      <th>mean</th>\n",
       "      <td>0.992525</td>\n",
       "    </tr>\n",
       "    <tr>\n",
       "      <th>50%</th>\n",
       "      <td>0.657000</td>\n",
       "    </tr>\n",
       "  </tbody>\n",
       "</table>\n",
       "</div>"
      ],
      "text/plain": [
       "      euro_str\n",
       "mean  0.992525\n",
       "50%   0.657000"
      ]
     },
     "execution_count": 30,
     "metadata": {},
     "output_type": "execute_result"
    }
   ],
   "source": [
    "(\n",
    "    df\n",
    "    .loc['2021-11-25':]\n",
    "    .describe()\n",
    ").loc[['mean','50%']]"
   ]
  }
 ],
 "metadata": {
  "kernelspec": {
   "display_name": "Python 3 (ipykernel)",
   "language": "python",
   "name": "python3"
  },
  "language_info": {
   "codemirror_mode": {
    "name": "ipython",
    "version": 3
   },
   "file_extension": ".py",
   "mimetype": "text/x-python",
   "name": "python",
   "nbconvert_exporter": "python",
   "pygments_lexer": "ipython3",
   "version": "3.10.8"
  }
 },
 "nbformat": 4,
 "nbformat_minor": 5
}
