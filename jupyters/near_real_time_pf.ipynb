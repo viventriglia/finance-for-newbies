{
 "cells": [
  {
   "cell_type": "code",
   "execution_count": 27,
   "id": "f7fa1942",
   "metadata": {},
   "outputs": [],
   "source": [
    "from pathlib import Path\n",
    "\n",
    "import pandas as pd\n",
    "import numpy as np\n",
    "import plotly.express as px\n",
    "import plotly.graph_objects as go\n",
    "import matplotlib.pyplot as plt\n",
    "\n",
    "from utils import aggregate_by_ticker, get_last_closing_price, get_full_price_history"
   ]
  },
  {
   "cell_type": "markdown",
   "id": "7616bbd2",
   "metadata": {},
   "source": [
    "## Import"
   ]
  },
  {
   "cell_type": "code",
   "execution_count": 28,
   "id": "3bf2317f",
   "metadata": {},
   "outputs": [],
   "source": [
    "io_path = Path('..','data','in')"
   ]
  },
  {
   "cell_type": "code",
   "execution_count": 29,
   "id": "14b007ec",
   "metadata": {},
   "outputs": [],
   "source": [
    "df_storico = pd.read_excel(\n",
    "    io_path / Path('demo.xlsx'),\n",
    "    sheet_name='Storico',\n",
    "    dtype={\n",
    "        'Borsa': str,\n",
    "        'Ticker': str,\n",
    "        'Quote': int,\n",
    "        'Prezzo (€)': float,\n",
    "        'Commissioni': float,\n",
    "    }\n",
    ").rename(\n",
    "    columns={\n",
    "        'Borsa': 'exchange',\n",
    "        'Ticker': 'ticker',\n",
    "        'Data Operazione': 'transaction_date',\n",
    "        'Quote': 'shares',\n",
    "        'Prezzo (€)': 'price',\n",
    "        'Commissioni (€)': 'fees',\n",
    "    }\n",
    ")"
   ]
  },
  {
   "cell_type": "code",
   "execution_count": 30,
   "id": "7438c464",
   "metadata": {},
   "outputs": [],
   "source": [
    "df_anagrafica = pd.read_excel(\n",
    "    io_path / Path('demo.xlsx'),\n",
    "    sheet_name='Anagrafica Titoli',\n",
    "    dtype=str\n",
    ").rename(\n",
    "    columns={\n",
    "        'Ticker': 'ticker',\n",
    "        'Nome ETF': 'name',\n",
    "        'Tipologia': 'asset_class',\n",
    "        'Macro Tipologia': 'macro_asset_class',\n",
    "    }\n",
    ")"
   ]
  },
  {
   "cell_type": "code",
   "execution_count": 31,
   "id": "63de10c6",
   "metadata": {},
   "outputs": [],
   "source": [
    "df_pf = aggregate_by_ticker(df_storico, in_pf_only=True)"
   ]
  },
  {
   "cell_type": "markdown",
   "id": "18f808d2",
   "metadata": {},
   "source": [
    "## Ultima chiusura"
   ]
  },
  {
   "cell_type": "code",
   "execution_count": 32,
   "id": "3e88e6b5",
   "metadata": {},
   "outputs": [],
   "source": [
    "ticker_list = df_pf['ticker_yf'].to_list()\n",
    "\n",
    "df_last_closing = get_last_closing_price(ticker_list=ticker_list)"
   ]
  },
  {
   "cell_type": "markdown",
   "id": "64b2943a",
   "metadata": {},
   "source": [
    "## PMC *vs* prezzo attuale"
   ]
  },
  {
   "cell_type": "code",
   "execution_count": 33,
   "id": "342f4b77",
   "metadata": {},
   "outputs": [],
   "source": [
    "df_j = df_pf[['ticker_yf','dca','shares']].merge(\n",
    "    df_last_closing[['ticker_yf','price']],\n",
    "    how='left',\n",
    "    on='ticker_yf'\n",
    ")\n",
    "\n",
    "df_j['gain'] = np.where(\n",
    "    df_j['price'].gt(df_j['dca']),\n",
    "    True,\n",
    "    False,\n",
    ")"
   ]
  },
  {
   "cell_type": "markdown",
   "id": "f09c2ac7",
   "metadata": {},
   "source": [
    "## PnL"
   ]
  },
  {
   "cell_type": "code",
   "execution_count": 34,
   "id": "c09a9433",
   "metadata": {},
   "outputs": [],
   "source": [
    "expense = (\n",
    "    df_j['shares'] * df_j['dca']\n",
    ").sum()"
   ]
  },
  {
   "cell_type": "code",
   "execution_count": 35,
   "id": "68c9975c",
   "metadata": {},
   "outputs": [],
   "source": [
    "fees = df_storico['fees'].sum().round(2)"
   ]
  },
  {
   "cell_type": "code",
   "execution_count": 36,
   "id": "235730d7",
   "metadata": {},
   "outputs": [],
   "source": [
    "pf_actual_value = (\n",
    "    df_j['shares'] * df_j['price']\n",
    ").sum()"
   ]
  },
  {
   "cell_type": "code",
   "execution_count": 37,
   "id": "5bc03ca7",
   "metadata": {},
   "outputs": [
    {
     "data": {
      "text/plain": [
       "(91.89, 73.15)"
      ]
     },
     "execution_count": 37,
     "metadata": {},
     "output_type": "execute_result"
    }
   ],
   "source": [
    "(pf_actual_value - expense).round(2), (pf_actual_value - expense - fees).round(2)"
   ]
  },
  {
   "cell_type": "code",
   "execution_count": 38,
   "id": "e17b4251",
   "metadata": {},
   "outputs": [
    {
     "data": {
      "text/plain": [
       "(2.2, 1.7)"
      ]
     },
     "execution_count": 38,
     "metadata": {},
     "output_type": "execute_result"
    }
   ],
   "source": [
    "np.round(\n",
    "    100 * (pf_actual_value - expense) / expense,\n",
    "    1\n",
    "), np.round(\n",
    "    100 * (pf_actual_value - expense - fees) / expense,\n",
    "    1\n",
    ")"
   ]
  },
  {
   "cell_type": "markdown",
   "id": "6a59aa2e",
   "metadata": {},
   "source": [
    "## Pivot per tipologia"
   ]
  },
  {
   "cell_type": "code",
   "execution_count": 39,
   "id": "473f00dc",
   "metadata": {},
   "outputs": [],
   "source": [
    "df_j['ticker'] = df_j['ticker_yf'].str.split('.').str[0]\n",
    "df_j['position_value'] = df_j['shares'] * df_j['price']"
   ]
  },
  {
   "cell_type": "code",
   "execution_count": 40,
   "id": "59d03a23",
   "metadata": {},
   "outputs": [],
   "source": [
    "df_pivot = df_j.merge(\n",
    "    df_anagrafica,\n",
    "    how='left',\n",
    "    on='ticker'\n",
    ").groupby(\n",
    "    [\n",
    "        'macro_asset_class',\n",
    "        'asset_class',\n",
    "        'ticker_yf',\n",
    "        'name',\n",
    "    ]\n",
    ")['position_value'].sum().reset_index()"
   ]
  },
  {
   "cell_type": "code",
   "execution_count": 41,
   "id": "ec66b53a",
   "metadata": {},
   "outputs": [],
   "source": [
    "df_pivot['weight_pf'] = (\n",
    "    100 * df_pivot['position_value'].div(pf_actual_value)\n",
    ").astype(float).round(1)"
   ]
  },
  {
   "cell_type": "code",
   "execution_count": 42,
   "id": "8652d1f5",
   "metadata": {},
   "outputs": [
    {
     "data": {
      "text/html": [
       "<div>\n",
       "<style scoped>\n",
       "    .dataframe tbody tr th:only-of-type {\n",
       "        vertical-align: middle;\n",
       "    }\n",
       "\n",
       "    .dataframe tbody tr th {\n",
       "        vertical-align: top;\n",
       "    }\n",
       "\n",
       "    .dataframe thead th {\n",
       "        text-align: right;\n",
       "    }\n",
       "</style>\n",
       "<table border=\"1\" class=\"dataframe\">\n",
       "  <thead>\n",
       "    <tr style=\"text-align: right;\">\n",
       "      <th></th>\n",
       "      <th></th>\n",
       "      <th>weight_pf</th>\n",
       "    </tr>\n",
       "    <tr>\n",
       "      <th>macro_asset_class</th>\n",
       "      <th>asset_class</th>\n",
       "      <th></th>\n",
       "    </tr>\n",
       "  </thead>\n",
       "  <tbody>\n",
       "    <tr>\n",
       "      <th rowspan=\"2\" valign=\"top\">Azionario</th>\n",
       "      <th>Azionario Emergente</th>\n",
       "      <td>4.4</td>\n",
       "    </tr>\n",
       "    <tr>\n",
       "      <th>Azionario Sviluppato</th>\n",
       "      <td>63.4</td>\n",
       "    </tr>\n",
       "    <tr>\n",
       "      <th>Cash USD</th>\n",
       "      <th>Obbligazionario ST US</th>\n",
       "      <td>2.5</td>\n",
       "    </tr>\n",
       "    <tr>\n",
       "      <th>Commodities</th>\n",
       "      <th>Oro</th>\n",
       "      <td>4.0</td>\n",
       "    </tr>\n",
       "    <tr>\n",
       "      <th rowspan=\"4\" valign=\"top\">Obbligazionario</th>\n",
       "      <th>Obbligazionario IL EU</th>\n",
       "      <td>3.7</td>\n",
       "    </tr>\n",
       "    <tr>\n",
       "      <th>Obbligazionario LT EU</th>\n",
       "      <td>14.4</td>\n",
       "    </tr>\n",
       "    <tr>\n",
       "      <th>Obbligazionario Mondiale</th>\n",
       "      <td>2.7</td>\n",
       "    </tr>\n",
       "    <tr>\n",
       "      <th>Obbligazionario ST EU</th>\n",
       "      <td>5.0</td>\n",
       "    </tr>\n",
       "    <tr>\n",
       "      <th>Total</th>\n",
       "      <th></th>\n",
       "      <td>100.1</td>\n",
       "    </tr>\n",
       "  </tbody>\n",
       "</table>\n",
       "</div>"
      ],
      "text/plain": [
       "                                            weight_pf\n",
       "macro_asset_class asset_class                        \n",
       "Azionario         Azionario Emergente             4.4\n",
       "                  Azionario Sviluppato           63.4\n",
       "Cash USD          Obbligazionario ST US           2.5\n",
       "Commodities       Oro                             4.0\n",
       "Obbligazionario   Obbligazionario IL EU           3.7\n",
       "                  Obbligazionario LT EU          14.4\n",
       "                  Obbligazionario Mondiale        2.7\n",
       "                  Obbligazionario ST EU           5.0\n",
       "Total                                           100.1"
      ]
     },
     "execution_count": 42,
     "metadata": {},
     "output_type": "execute_result"
    }
   ],
   "source": [
    "pd.pivot_table(\n",
    "    df_pivot,\n",
    "    values=['weight_pf'],\n",
    "    index=['macro_asset_class', 'asset_class'],\n",
    "    aggfunc='sum',\n",
    "    margins=True,\n",
    "    margins_name='Total',\n",
    ")"
   ]
  },
  {
   "cell_type": "code",
   "execution_count": 43,
   "id": "3fa346b9",
   "metadata": {},
   "outputs": [],
   "source": [
    "df_cool = df_j.merge(\n",
    "    df_anagrafica,\n",
    "    how='left',\n",
    "    on='ticker'\n",
    ")\n",
    "\n",
    "df_cool['pnl'] = (\n",
    "    (df_cool['price'] - df_cool['dca']) * df_cool['shares']\n",
    ").astype(float).round(1)"
   ]
  },
  {
   "cell_type": "code",
   "execution_count": 44,
   "id": "1b7d7bac",
   "metadata": {},
   "outputs": [],
   "source": [
    "df_pnl = df_cool.groupby(\n",
    "    ['macro_asset_class','asset_class']\n",
    ")['pnl'].sum().reset_index().sort_values(['macro_asset_class','asset_class'])"
   ]
  },
  {
   "cell_type": "markdown",
   "id": "a81b1833",
   "metadata": {},
   "source": [
    "## Full History"
   ]
  },
  {
   "cell_type": "code",
   "execution_count": 45,
   "id": "f7b25f87",
   "metadata": {
    "scrolled": false
   },
   "outputs": [],
   "source": [
    "df_full_history = get_full_price_history(ticker_list)"
   ]
  },
  {
   "cell_type": "code",
   "execution_count": 46,
   "id": "34c5e7bc",
   "metadata": {
    "scrolled": false
   },
   "outputs": [],
   "source": [
    "df_full_history_concat = pd.concat(\n",
    "    [df_full_history[t_] for t_ in ticker_list],\n",
    "    axis=1,\n",
    ")"
   ]
  },
  {
   "cell_type": "code",
   "execution_count": 47,
   "id": "a0cab767",
   "metadata": {},
   "outputs": [
    {
     "name": "stdout",
     "output_type": "stream",
     "text": [
      "Starting from 2019-07-02 (1034 days, 4.1 yrs)\n"
     ]
    }
   ],
   "source": [
    "# First not-null row\n",
    "first_idx = df_full_history_concat.apply(\n",
    "    pd.Series.first_valid_index\n",
    ").max()\n",
    "\n",
    "df = df_full_history_concat.loc[first_idx:]\n",
    "\n",
    "print(f'Starting from {str(first_idx)[:10]} ({df.shape[0]} days, {round(df.shape[0]/252, 1)} yrs)')"
   ]
  },
  {
   "cell_type": "code",
   "execution_count": 49,
   "id": "0624c633",
   "metadata": {},
   "outputs": [
    {
     "data": {
      "text/html": [
       "<div>\n",
       "<style scoped>\n",
       "    .dataframe tbody tr th:only-of-type {\n",
       "        vertical-align: middle;\n",
       "    }\n",
       "\n",
       "    .dataframe tbody tr th {\n",
       "        vertical-align: top;\n",
       "    }\n",
       "\n",
       "    .dataframe thead th {\n",
       "        text-align: right;\n",
       "    }\n",
       "</style>\n",
       "<table border=\"1\" class=\"dataframe\">\n",
       "  <thead>\n",
       "    <tr style=\"text-align: right;\">\n",
       "      <th></th>\n",
       "      <th>LCWD.MI</th>\n",
       "      <th>AGGH.MI</th>\n",
       "      <th>36BZ.DE</th>\n",
       "      <th>ICGA.DE</th>\n",
       "      <th>EM710.MI</th>\n",
       "      <th>FLXI.DE</th>\n",
       "      <th>MWRD.MI</th>\n",
       "      <th>CSBGE3.MI</th>\n",
       "      <th>EMI.MI</th>\n",
       "      <th>IB01.L</th>\n",
       "      <th>SGLD.MI</th>\n",
       "    </tr>\n",
       "  </thead>\n",
       "  <tbody>\n",
       "    <tr>\n",
       "      <th>2023-06-12</th>\n",
       "      <td>13.922</td>\n",
       "      <td>4.6010</td>\n",
       "      <td>4.1885</td>\n",
       "      <td>3.9995</td>\n",
       "      <td>156.960007</td>\n",
       "      <td>31.025000</td>\n",
       "      <td>95.919998</td>\n",
       "      <td>107.180000</td>\n",
       "      <td>161.350006</td>\n",
       "      <td>105.110001</td>\n",
       "      <td>175.770004</td>\n",
       "    </tr>\n",
       "    <tr>\n",
       "      <th>2023-06-13</th>\n",
       "      <td>14.052</td>\n",
       "      <td>4.5970</td>\n",
       "      <td>4.1920</td>\n",
       "      <td>4.0265</td>\n",
       "      <td>156.460007</td>\n",
       "      <td>31.320000</td>\n",
       "      <td>96.900002</td>\n",
       "      <td>107.099998</td>\n",
       "      <td>161.100006</td>\n",
       "      <td>105.110001</td>\n",
       "      <td>174.009995</td>\n",
       "    </tr>\n",
       "    <tr>\n",
       "      <th>2023-06-14</th>\n",
       "      <td>14.072</td>\n",
       "      <td>4.5980</td>\n",
       "      <td>4.2055</td>\n",
       "      <td>4.0415</td>\n",
       "      <td>156.190002</td>\n",
       "      <td>31.219999</td>\n",
       "      <td>96.919998</td>\n",
       "      <td>107.059998</td>\n",
       "      <td>161.009995</td>\n",
       "      <td>105.150002</td>\n",
       "      <td>174.270004</td>\n",
       "    </tr>\n",
       "    <tr>\n",
       "      <th>2023-06-15</th>\n",
       "      <td>14.032</td>\n",
       "      <td>4.6005</td>\n",
       "      <td>4.2400</td>\n",
       "      <td>4.0905</td>\n",
       "      <td>155.529999</td>\n",
       "      <td>31.014999</td>\n",
       "      <td>96.610001</td>\n",
       "      <td>106.870003</td>\n",
       "      <td>161.100006</td>\n",
       "      <td>105.199997</td>\n",
       "      <td>172.839996</td>\n",
       "    </tr>\n",
       "    <tr>\n",
       "      <th>2023-06-16</th>\n",
       "      <td>14.090</td>\n",
       "      <td>4.6030</td>\n",
       "      <td>4.2555</td>\n",
       "      <td>4.0965</td>\n",
       "      <td>156.229996</td>\n",
       "      <td>31.190001</td>\n",
       "      <td>97.000000</td>\n",
       "      <td>106.910004</td>\n",
       "      <td>162.130005</td>\n",
       "      <td>105.180000</td>\n",
       "      <td>173.149994</td>\n",
       "    </tr>\n",
       "    <tr>\n",
       "      <th>2023-06-19</th>\n",
       "      <td>14.006</td>\n",
       "      <td>4.5900</td>\n",
       "      <td>4.2275</td>\n",
       "      <td>4.0790</td>\n",
       "      <td>155.440002</td>\n",
       "      <td>31.080000</td>\n",
       "      <td>96.360001</td>\n",
       "      <td>106.839996</td>\n",
       "      <td>161.490005</td>\n",
       "      <td>105.220001</td>\n",
       "      <td>172.550003</td>\n",
       "    </tr>\n",
       "    <tr>\n",
       "      <th>2023-06-20</th>\n",
       "      <td>13.948</td>\n",
       "      <td>4.6090</td>\n",
       "      <td>4.1855</td>\n",
       "      <td>3.9505</td>\n",
       "      <td>156.660004</td>\n",
       "      <td>31.174999</td>\n",
       "      <td>95.930000</td>\n",
       "      <td>106.900002</td>\n",
       "      <td>162.699997</td>\n",
       "      <td>105.230003</td>\n",
       "      <td>171.289993</td>\n",
       "    </tr>\n",
       "    <tr>\n",
       "      <th>2023-06-21</th>\n",
       "      <td>13.876</td>\n",
       "      <td>4.6035</td>\n",
       "      <td>4.1180</td>\n",
       "      <td>3.8940</td>\n",
       "      <td>156.330002</td>\n",
       "      <td>31.084999</td>\n",
       "      <td>95.470001</td>\n",
       "      <td>106.870003</td>\n",
       "      <td>162.610001</td>\n",
       "      <td>105.239998</td>\n",
       "      <td>170.270004</td>\n",
       "    </tr>\n",
       "    <tr>\n",
       "      <th>2023-06-22</th>\n",
       "      <td>13.848</td>\n",
       "      <td>4.5965</td>\n",
       "      <td>4.1025</td>\n",
       "      <td>3.8810</td>\n",
       "      <td>155.490005</td>\n",
       "      <td>30.975000</td>\n",
       "      <td>95.180000</td>\n",
       "      <td>106.739998</td>\n",
       "      <td>161.889999</td>\n",
       "      <td>105.300003</td>\n",
       "      <td>168.619995</td>\n",
       "    </tr>\n",
       "    <tr>\n",
       "      <th>2023-06-23</th>\n",
       "      <td>13.806</td>\n",
       "      <td>4.6100</td>\n",
       "      <td>4.0765</td>\n",
       "      <td>3.8195</td>\n",
       "      <td>157.039993</td>\n",
       "      <td>30.760000</td>\n",
       "      <td>95.110001</td>\n",
       "      <td>106.919998</td>\n",
       "      <td>163.270004</td>\n",
       "      <td>105.279999</td>\n",
       "      <td>170.500000</td>\n",
       "    </tr>\n",
       "    <tr>\n",
       "      <th>2023-06-26</th>\n",
       "      <td>13.786</td>\n",
       "      <td>4.6200</td>\n",
       "      <td>4.0400</td>\n",
       "      <td>3.8340</td>\n",
       "      <td>157.729996</td>\n",
       "      <td>30.934999</td>\n",
       "      <td>94.839996</td>\n",
       "      <td>106.970001</td>\n",
       "      <td>163.759995</td>\n",
       "      <td>105.320000</td>\n",
       "      <td>170.550003</td>\n",
       "    </tr>\n",
       "    <tr>\n",
       "      <th>2023-06-27</th>\n",
       "      <td>13.764</td>\n",
       "      <td>4.6080</td>\n",
       "      <td>4.0845</td>\n",
       "      <td>3.8950</td>\n",
       "      <td>157.039993</td>\n",
       "      <td>31.040001</td>\n",
       "      <td>94.830002</td>\n",
       "      <td>106.860001</td>\n",
       "      <td>163.139999</td>\n",
       "      <td>105.320000</td>\n",
       "      <td>168.809998</td>\n",
       "    </tr>\n",
       "    <tr>\n",
       "      <th>2023-06-28</th>\n",
       "      <td>13.904</td>\n",
       "      <td>4.6135</td>\n",
       "      <td>4.0685</td>\n",
       "      <td>3.8690</td>\n",
       "      <td>157.529999</td>\n",
       "      <td>31.365000</td>\n",
       "      <td>95.690002</td>\n",
       "      <td>106.879997</td>\n",
       "      <td>162.970001</td>\n",
       "      <td>105.300003</td>\n",
       "      <td>169.190002</td>\n",
       "    </tr>\n",
       "    <tr>\n",
       "      <th>2023-06-29</th>\n",
       "      <td>13.946</td>\n",
       "      <td>4.5990</td>\n",
       "      <td>4.0655</td>\n",
       "      <td>3.8370</td>\n",
       "      <td>156.270004</td>\n",
       "      <td>31.525000</td>\n",
       "      <td>96.120003</td>\n",
       "      <td>106.760002</td>\n",
       "      <td>162.050003</td>\n",
       "      <td>105.360001</td>\n",
       "      <td>169.449997</td>\n",
       "    </tr>\n",
       "    <tr>\n",
       "      <th>2023-06-30</th>\n",
       "      <td>14.072</td>\n",
       "      <td>4.6080</td>\n",
       "      <td>4.0885</td>\n",
       "      <td>3.8720</td>\n",
       "      <td>156.550003</td>\n",
       "      <td>31.754999</td>\n",
       "      <td>96.980003</td>\n",
       "      <td>106.779999</td>\n",
       "      <td>161.869995</td>\n",
       "      <td>105.400002</td>\n",
       "      <td>169.639999</td>\n",
       "    </tr>\n",
       "    <tr>\n",
       "      <th>2023-07-03</th>\n",
       "      <td>14.102</td>\n",
       "      <td>4.5985</td>\n",
       "      <td>4.1335</td>\n",
       "      <td>3.9270</td>\n",
       "      <td>155.809998</td>\n",
       "      <td>31.855000</td>\n",
       "      <td>97.230003</td>\n",
       "      <td>106.629997</td>\n",
       "      <td>162.080002</td>\n",
       "      <td>105.400002</td>\n",
       "      <td>170.500000</td>\n",
       "    </tr>\n",
       "    <tr>\n",
       "      <th>2023-07-04</th>\n",
       "      <td>14.120</td>\n",
       "      <td>4.5955</td>\n",
       "      <td>4.1740</td>\n",
       "      <td>3.9615</td>\n",
       "      <td>155.589996</td>\n",
       "      <td>31.815001</td>\n",
       "      <td>97.250000</td>\n",
       "      <td>106.730003</td>\n",
       "      <td>161.679993</td>\n",
       "      <td>105.419998</td>\n",
       "      <td>170.750000</td>\n",
       "    </tr>\n",
       "    <tr>\n",
       "      <th>2023-07-05</th>\n",
       "      <td>14.120</td>\n",
       "      <td>4.5890</td>\n",
       "      <td>4.1355</td>\n",
       "      <td>3.9060</td>\n",
       "      <td>155.539993</td>\n",
       "      <td>31.885000</td>\n",
       "      <td>97.209999</td>\n",
       "      <td>106.779999</td>\n",
       "      <td>161.500000</td>\n",
       "      <td>105.440002</td>\n",
       "      <td>170.809998</td>\n",
       "    </tr>\n",
       "    <tr>\n",
       "      <th>2023-07-06</th>\n",
       "      <td>13.880</td>\n",
       "      <td>4.5570</td>\n",
       "      <td>4.0840</td>\n",
       "      <td>3.8080</td>\n",
       "      <td>153.559998</td>\n",
       "      <td>31.680000</td>\n",
       "      <td>95.599998</td>\n",
       "      <td>106.610001</td>\n",
       "      <td>159.630005</td>\n",
       "      <td>105.440002</td>\n",
       "      <td>169.600006</td>\n",
       "    </tr>\n",
       "    <tr>\n",
       "      <th>2023-07-07</th>\n",
       "      <td>13.884</td>\n",
       "      <td>4.5600</td>\n",
       "      <td>4.1010</td>\n",
       "      <td>3.8485</td>\n",
       "      <td>153.800003</td>\n",
       "      <td>31.565001</td>\n",
       "      <td>95.570000</td>\n",
       "      <td>106.739998</td>\n",
       "      <td>159.779999</td>\n",
       "      <td>105.500000</td>\n",
       "      <td>170.160004</td>\n",
       "    </tr>\n",
       "  </tbody>\n",
       "</table>\n",
       "</div>"
      ],
      "text/plain": [
       "            LCWD.MI  AGGH.MI  36BZ.DE  ICGA.DE    EM710.MI    FLXI.DE  \\\n",
       "2023-06-12   13.922   4.6010   4.1885   3.9995  156.960007  31.025000   \n",
       "2023-06-13   14.052   4.5970   4.1920   4.0265  156.460007  31.320000   \n",
       "2023-06-14   14.072   4.5980   4.2055   4.0415  156.190002  31.219999   \n",
       "2023-06-15   14.032   4.6005   4.2400   4.0905  155.529999  31.014999   \n",
       "2023-06-16   14.090   4.6030   4.2555   4.0965  156.229996  31.190001   \n",
       "2023-06-19   14.006   4.5900   4.2275   4.0790  155.440002  31.080000   \n",
       "2023-06-20   13.948   4.6090   4.1855   3.9505  156.660004  31.174999   \n",
       "2023-06-21   13.876   4.6035   4.1180   3.8940  156.330002  31.084999   \n",
       "2023-06-22   13.848   4.5965   4.1025   3.8810  155.490005  30.975000   \n",
       "2023-06-23   13.806   4.6100   4.0765   3.8195  157.039993  30.760000   \n",
       "2023-06-26   13.786   4.6200   4.0400   3.8340  157.729996  30.934999   \n",
       "2023-06-27   13.764   4.6080   4.0845   3.8950  157.039993  31.040001   \n",
       "2023-06-28   13.904   4.6135   4.0685   3.8690  157.529999  31.365000   \n",
       "2023-06-29   13.946   4.5990   4.0655   3.8370  156.270004  31.525000   \n",
       "2023-06-30   14.072   4.6080   4.0885   3.8720  156.550003  31.754999   \n",
       "2023-07-03   14.102   4.5985   4.1335   3.9270  155.809998  31.855000   \n",
       "2023-07-04   14.120   4.5955   4.1740   3.9615  155.589996  31.815001   \n",
       "2023-07-05   14.120   4.5890   4.1355   3.9060  155.539993  31.885000   \n",
       "2023-07-06   13.880   4.5570   4.0840   3.8080  153.559998  31.680000   \n",
       "2023-07-07   13.884   4.5600   4.1010   3.8485  153.800003  31.565001   \n",
       "\n",
       "              MWRD.MI   CSBGE3.MI      EMI.MI      IB01.L     SGLD.MI  \n",
       "2023-06-12  95.919998  107.180000  161.350006  105.110001  175.770004  \n",
       "2023-06-13  96.900002  107.099998  161.100006  105.110001  174.009995  \n",
       "2023-06-14  96.919998  107.059998  161.009995  105.150002  174.270004  \n",
       "2023-06-15  96.610001  106.870003  161.100006  105.199997  172.839996  \n",
       "2023-06-16  97.000000  106.910004  162.130005  105.180000  173.149994  \n",
       "2023-06-19  96.360001  106.839996  161.490005  105.220001  172.550003  \n",
       "2023-06-20  95.930000  106.900002  162.699997  105.230003  171.289993  \n",
       "2023-06-21  95.470001  106.870003  162.610001  105.239998  170.270004  \n",
       "2023-06-22  95.180000  106.739998  161.889999  105.300003  168.619995  \n",
       "2023-06-23  95.110001  106.919998  163.270004  105.279999  170.500000  \n",
       "2023-06-26  94.839996  106.970001  163.759995  105.320000  170.550003  \n",
       "2023-06-27  94.830002  106.860001  163.139999  105.320000  168.809998  \n",
       "2023-06-28  95.690002  106.879997  162.970001  105.300003  169.190002  \n",
       "2023-06-29  96.120003  106.760002  162.050003  105.360001  169.449997  \n",
       "2023-06-30  96.980003  106.779999  161.869995  105.400002  169.639999  \n",
       "2023-07-03  97.230003  106.629997  162.080002  105.400002  170.500000  \n",
       "2023-07-04  97.250000  106.730003  161.679993  105.419998  170.750000  \n",
       "2023-07-05  97.209999  106.779999  161.500000  105.440002  170.809998  \n",
       "2023-07-06  95.599998  106.610001  159.630005  105.440002  169.600006  \n",
       "2023-07-07  95.570000  106.739998  159.779999  105.500000  170.160004  "
      ]
     },
     "execution_count": 49,
     "metadata": {},
     "output_type": "execute_result"
    }
   ],
   "source": [
    "df.tail(20)"
   ]
  },
  {
   "cell_type": "markdown",
   "id": "7394bd19",
   "metadata": {},
   "source": [
    "## Grafichetti\n",
    "\n",
    "[tipo](https://plotly.com/python/horizontal-bar-charts/)"
   ]
  },
  {
   "cell_type": "code",
   "execution_count": null,
   "id": "e6ac811c",
   "metadata": {},
   "outputs": [],
   "source": [
    "fig = px.sunburst(\n",
    "    df_pivot.assign(hole=\" \"),\n",
    "    path=['hole','macro_asset_class','asset_class','ticker_yf'],\n",
    "    values='position_value',\n",
    ")\n",
    "\n",
    "fig.show()"
   ]
  },
  {
   "cell_type": "markdown",
   "id": "b3747a4f",
   "metadata": {},
   "source": [
    "## Sharpe, Sortino, Drawdon\n",
    "\n",
    "[link](https://www.codearmo.com/blog/sharpe-sortino-and-calmar-ratios-python)"
   ]
  },
  {
   "cell_type": "code",
   "execution_count": null,
   "id": "fefce8c6",
   "metadata": {},
   "outputs": [],
   "source": [
    "df_storico['transaction_date'].min()"
   ]
  },
  {
   "cell_type": "code",
   "execution_count": null,
   "id": "d0fe6423",
   "metadata": {},
   "outputs": [],
   "source": [
    "weights = [\n",
    "    df_pivot[df_pivot['ticker_yf'].eq(x_)]['weight_pf'].values[0]\n",
    "    for x_ in df.columns\n",
    "]"
   ]
  },
  {
   "cell_type": "code",
   "execution_count": null,
   "id": "c8823df4",
   "metadata": {},
   "outputs": [],
   "source": [
    "df_weighted = df.copy()\n",
    "df_weighted['weighted_average'] = np.average(df, weights=weights, axis=1)"
   ]
  },
  {
   "cell_type": "code",
   "execution_count": null,
   "id": "e542c2b6",
   "metadata": {},
   "outputs": [],
   "source": [
    "df_weighted"
   ]
  },
  {
   "cell_type": "code",
   "execution_count": null,
   "id": "11c8735c",
   "metadata": {},
   "outputs": [],
   "source": [
    "import datetime\n",
    "\n",
    "begin_date = df_storico['transaction_date'].min()\n",
    "today = datetime.datetime.now().date()\n",
    "\n",
    "date_range = pd.date_range(start=begin_date, end=today, freq='D')"
   ]
  },
  {
   "cell_type": "code",
   "execution_count": null,
   "id": "2653241a",
   "metadata": {},
   "outputs": [],
   "source": [
    "df_asset_allocation = pd.DataFrame(\n",
    "    index=date_range,\n",
    "    columns=ticker_list,\n",
    "    data=0,\n",
    "    dtype=int,\n",
    ")\n",
    "\n",
    "for (data, ticker), group in df_storico[\n",
    "    df_storico['ticker_yf'].ne('EGLN.L')\n",
    "].groupby(['transaction_date', 'ticker_yf']):\n",
    "    total_shares = group['shares'].sum()\n",
    "    df_asset_allocation.loc[data, ticker] += total_shares\n",
    "    \n",
    "df_asset_allocation = df_asset_allocation.cumsum()"
   ]
  },
  {
   "cell_type": "code",
   "execution_count": null,
   "id": "f36ad8c1",
   "metadata": {},
   "outputs": [],
   "source": [
    "# Crescita patrimonio\n",
    "df_wealth = df_asset_allocation.multiply(\n",
    "    df.loc[begin_date:]\n",
    ").fillna(method='ffill').sum(axis=1).rename(\"ap_daily_value\")"
   ]
  },
  {
   "cell_type": "markdown",
   "id": "50fe018b",
   "metadata": {},
   "source": [
    "## Correlation"
   ]
  },
  {
   "cell_type": "code",
   "execution_count": null,
   "id": "47c977b3",
   "metadata": {},
   "outputs": [],
   "source": [
    "def color_df(val: float) -> str:\n",
    "    if val <= 0.3:\n",
    "        color = 'darkblue'\n",
    "    elif (val > 0.3 and val <= 0.7):\n",
    "        color = 'darkorange'\n",
    "    elif (val > 0.7 and val < 1.0):\n",
    "        color = 'darkred'\n",
    "    elif val == 1.0:\n",
    "        color = 'white'\n",
    "    return 'color: %s' % color"
   ]
  },
  {
   "cell_type": "code",
   "execution_count": null,
   "id": "299d230c",
   "metadata": {
    "scrolled": false
   },
   "outputs": [],
   "source": [
    "df_corr = df.corr()\n",
    "\n",
    "df_corr.style.applymap(color_df)"
   ]
  },
  {
   "cell_type": "code",
   "execution_count": null,
   "id": "c8e41903",
   "metadata": {
    "scrolled": false
   },
   "outputs": [],
   "source": [
    "mask = np.tril(\n",
    "    np.ones_like(df_corr, dtype=bool)\n",
    ")\n",
    "\n",
    "fig = go.Figure(go.Heatmap(\n",
    "    z=df_corr.mask(mask),\n",
    "    x=df_corr.columns,\n",
    "    y=df_corr.columns,\n",
    "    colorscale=px.colors.diverging.RdBu,\n",
    "    reversescale=True,\n",
    "    zmin=-1,\n",
    "    zmax=1\n",
    "))\n",
    "\n",
    "fig.update_layout(\n",
    "    paper_bgcolor='rgba(0,0,0,0)',\n",
    "    plot_bgcolor='rgba(0,0,0,0)',\n",
    ")\n",
    "\n",
    "fig.show()"
   ]
  },
  {
   "cell_type": "markdown",
   "id": "63455e33",
   "metadata": {},
   "source": [
    "## PyPortfolioOpt"
   ]
  },
  {
   "cell_type": "markdown",
   "id": "f16d4372",
   "metadata": {},
   "source": [
    "[risk-free rate](https://www.ecb.europa.eu/stats/financial_markets_and_interest_rates/euro_short-term_rate/html/index.en.html) area Euro\n",
    "\n",
    "[Fred](https://fred.stlouisfed.org/series/ECBESTRVOLWGTTRMDMNRT)"
   ]
  },
  {
   "cell_type": "code",
   "execution_count": null,
   "id": "2547a1a5",
   "metadata": {},
   "outputs": [],
   "source": [
    "from pypfopt.efficient_frontier import EfficientFrontier\n",
    "from pypfopt import risk_models, expected_returns, plotting\n",
    "\n",
    "# Calculate expected returns and sample covariance\n",
    "mu = expected_returns.mean_historical_return(df)\n",
    "S = risk_models.sample_cov(df)\n",
    "\n",
    "# Risk-free rate\n",
    "risk_free_rate = 0.0314\n",
    "\n",
    "# Optimize for maximal Sharpe ratio\n",
    "ef = EfficientFrontier(mu, S)\n",
    "max_sharpe_weights = ef.max_sharpe(risk_free_rate=risk_free_rate)\n",
    "ef.portfolio_performance(verbose=True, risk_free_rate=risk_free_rate);"
   ]
  },
  {
   "cell_type": "code",
   "execution_count": null,
   "id": "1a95f1ac",
   "metadata": {},
   "outputs": [],
   "source": [
    "for it_ in max_sharpe_weights.items():\n",
    "    print(it_)"
   ]
  },
  {
   "cell_type": "code",
   "execution_count": null,
   "id": "d39ef8f4",
   "metadata": {},
   "outputs": [],
   "source": [
    "ef_plt = EfficientFrontier(mu, S)\n",
    "\n",
    "fig, ax = plt.subplots()\n",
    "plotting.plot_efficient_frontier(\n",
    "    ef_plt,\n",
    "    ax=ax,\n",
    "    show_assets=True,\n",
    ")\n",
    "plt.show()"
   ]
  },
  {
   "cell_type": "code",
   "execution_count": null,
   "id": "301d51de",
   "metadata": {},
   "outputs": [],
   "source": [
    "ef_plt = EfficientFrontier(mu, S)\n",
    "\n",
    "fig, ax = plt.subplots()\n",
    "ef_max_sharpe = ef_plt\n",
    "plotting.plot_efficient_frontier(\n",
    "    ef_plt,\n",
    "    ax=ax,\n",
    "    show_assets=False,\n",
    ")\n",
    "\n",
    "# Find the tangency portfolio\n",
    "ef_max_sharpe.max_sharpe()\n",
    "ret_tangent, std_tangent, _ = ef_max_sharpe.portfolio_performance()\n",
    "ax.scatter(std_tangent, ret_tangent, marker=\"*\", s=100, c=\"r\", label=\"Max Sharpe\")\n",
    "\n",
    "# Generate random portfolios\n",
    "n_samples = 10000\n",
    "w = np.random.dirichlet(np.ones(ef_plt.n_assets), n_samples)\n",
    "rets = w.dot(ef_plt.expected_returns)\n",
    "stds = np.sqrt(np.diag(w @ ef_plt.cov_matrix @ w.T))\n",
    "sharpes = rets / stds\n",
    "ax.scatter(stds, rets, marker=\".\", c=sharpes, cmap=\"viridis_r\")\n",
    "\n",
    "# Output\n",
    "ax.set_title(\"Efficient Frontier with random portfolios\")\n",
    "ax.set_xlim((0.0, 1.0))\n",
    "ax.set_ylim((0.0, 0.2))\n",
    "ax.legend()\n",
    "plt.tight_layout()\n",
    "plt.show()"
   ]
  },
  {
   "cell_type": "markdown",
   "id": "d419b950",
   "metadata": {},
   "source": [
    "## Efficient Frontier"
   ]
  },
  {
   "cell_type": "code",
   "execution_count": null,
   "id": "a1801332",
   "metadata": {},
   "outputs": [],
   "source": [
    "df_returns = df.pct_change()[1:]"
   ]
  },
  {
   "cell_type": "code",
   "execution_count": null,
   "id": "84debab3",
   "metadata": {},
   "outputs": [],
   "source": [
    "# Annualized returns (cumulative appreciation)\n",
    "r = (\n",
    "    (1 + df_returns).prod()\n",
    ")**(\n",
    "    252 / df_returns.shape[0]\n",
    ") - 1"
   ]
  },
  {
   "cell_type": "code",
   "execution_count": null,
   "id": "59b2f8c5",
   "metadata": {},
   "outputs": [],
   "source": [
    "# Covariance matrix\n",
    "cov = 252 * df_returns.cov()"
   ]
  },
  {
   "cell_type": "code",
   "execution_count": null,
   "id": "08156296",
   "metadata": {},
   "outputs": [],
   "source": [
    "e = np.ones(r.shape[0])"
   ]
  },
  {
   "cell_type": "code",
   "execution_count": null,
   "id": "99495729",
   "metadata": {},
   "outputs": [],
   "source": [
    "# Investable universe\n",
    "icov = np.linalg.inv(cov)\n",
    "\n",
    "h = np.matmul(e, icov)\n",
    "g = np.matmul(r, icov)\n",
    "\n",
    "a = np.sum(e * h)\n",
    "b = np.sum(r * h)\n",
    "c = np.sum(r * g)\n",
    "d = a * c - b**2"
   ]
  },
  {
   "cell_type": "code",
   "execution_count": null,
   "id": "45645825",
   "metadata": {},
   "outputs": [],
   "source": [
    "# MVP (minimum-variance portfolio)\n",
    "mvp = h / a\n",
    "mvp_return = b / a\n",
    "mvp_risk = 1 / np.sqrt(a)"
   ]
  },
  {
   "cell_type": "code",
   "execution_count": null,
   "id": "a6e51ebb",
   "metadata": {},
   "outputs": [],
   "source": [
    "# Tangency portfolio (with zero risk-free rate)\n",
    "tangency = g / b\n",
    "tangency_return = c / b\n",
    "tangency_risk = np.sqrt(c) / b"
   ]
  },
  {
   "cell_type": "code",
   "execution_count": null,
   "id": "194d4856",
   "metadata": {},
   "outputs": [],
   "source": [
    "mvp_return, mvp_risk"
   ]
  }
 ],
 "metadata": {
  "kernelspec": {
   "display_name": "Python 3 (ipykernel)",
   "language": "python",
   "name": "python3"
  },
  "language_info": {
   "codemirror_mode": {
    "name": "ipython",
    "version": 3
   },
   "file_extension": ".py",
   "mimetype": "text/x-python",
   "name": "python",
   "nbconvert_exporter": "python",
   "pygments_lexer": "ipython3",
   "version": "3.10.8"
  },
  "vscode": {
   "interpreter": {
    "hash": "916dbcbb3f70747c44a77c7bcd40155683ae19c65e1c03b4aa3499c5328201f1"
   }
  }
 },
 "nbformat": 4,
 "nbformat_minor": 5
}
